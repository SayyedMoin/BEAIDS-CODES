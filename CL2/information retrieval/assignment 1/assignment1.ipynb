{
 "cells": [
  {
   "cell_type": "markdown",
   "metadata": {},
   "source": [
    "# assignment 1\n",
    "write a program for pre-processing of a text document such as stop word removal, stemming."
   ]
  },
  {
   "cell_type": "code",
   "execution_count": 11,
   "metadata": {},
   "outputs": [],
   "source": [
    "import nltk # nltk - natural language toolkit\n",
    "from nltk.corpus import stopwords #nltk.corpus provides us with an extensive list of stopwords to work with\n",
    "from nltk.tokenize import word_tokenize \n",
    "from nltk.stem import PorterStemmer  # Import Porter Stemmer for stemming\n",
    "import string"
   ]
  },
  {
   "cell_type": "code",
   "execution_count": 2,
   "metadata": {},
   "outputs": [],
   "source": [
    "nltk.download(\"punkt\") \n",
    "nltk.download(\"stopwords\")"
   ]
  },
  {
   "cell_type": "code",
   "execution_count": 3,
   "metadata": {},
   "outputs": [],
   "source": [
    "with open('data.txt', 'r') as file:\n",
    "    text = file.read()"
   ]
  },
  {
   "cell_type": "code",
   "execution_count": 10,
   "metadata": {},
   "outputs": [],
   "source": [
    "# creating a set of non repeating array of stopwords which can be refered to while removing them\n",
    "stop_words = set(stopwords.words('english'))\n",
    "stop_words = stop_words.union(set(string.punctuation))\n",
    "\n",
    "# tokenizing each word in the given example set\n",
    "word_tokens = word_tokenize(text)"
   ]
  },
  {
   "cell_type": "code",
   "execution_count": 5,
   "metadata": {},
   "outputs": [],
   "source": [
    "# using list comprehension for creating a list of stopword filtered array\n",
    "filtered_sentence = [w for w in word_tokens if not w.lower() in stop_words]"
   ]
  },
  {
   "cell_type": "code",
   "execution_count": 12,
   "metadata": {},
   "outputs": [],
   "source": [
    "# Applying stemming to the filtered sentence\n",
    "porter = PorterStemmer()\n",
    "stemmed_words = [porter.stem(word) for word in filtered_sentence]"
   ]
  },
  {
   "cell_type": "code",
   "execution_count": 13,
   "metadata": {},
   "outputs": [
    {
     "name": "stdout",
     "output_type": "stream",
     "text": [
      "Array tokenized words are as follows : ['Walking', 'through', 'the', 'serene', ',', 'sunlit', 'park', ',', 'I', 'spotted', 'friendly', 'squirrels', 'playing', 'under', 'the', 'trees', ',', 'illustrating', 'nature', \"'s\", 'beauty', 'and', 'the', 'joy', 'of', 'simple', 'moments']\n",
      "Array of stopword filtered sentence is as follows : ['Walking', 'serene', 'sunlit', 'park', 'spotted', 'friendly', 'squirrels', 'playing', 'trees', 'illustrating', 'nature', \"'s\", 'beauty', 'joy', 'simple', 'moments']\n",
      "Stemmed words: ['walk', 'seren', 'sunlit', 'park', 'spot', 'friendli', 'squirrel', 'play', 'tree', 'illustr', 'natur', \"'s\", 'beauti', 'joy', 'simpl', 'moment']\n"
     ]
    }
   ],
   "source": [
    "print(f\"Array tokenized words are as follows : {word_tokens}\")\n",
    "print(f\"Array of stopword filtered sentence is as follows : {filtered_sentence}\")\n",
    "print(f\"Stemmed words: {stemmed_words}\")"
   ]
  }
 ],
 "metadata": {
  "kernelspec": {
   "display_name": "Python 3",
   "language": "python",
   "name": "python3"
  },
  "language_info": {
   "codemirror_mode": {
    "name": "ipython",
    "version": 3
   },
   "file_extension": ".py",
   "mimetype": "text/x-python",
   "name": "python",
   "nbconvert_exporter": "python",
   "pygments_lexer": "ipython3",
   "version": "3.11.4"
  }
 },
 "nbformat": 4,
 "nbformat_minor": 2
}
