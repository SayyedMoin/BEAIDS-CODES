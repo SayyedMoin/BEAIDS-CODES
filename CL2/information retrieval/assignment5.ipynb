{
 "cells": [
  {
   "cell_type": "markdown",
   "metadata": {},
   "source": [
    "# assignment 5\n",
    "Implement Page Rank Algorithm. "
   ]
  },
  {
   "cell_type": "code",
   "execution_count": 1,
   "metadata": {},
   "outputs": [],
   "source": [
    "import networkx as nx"
   ]
  },
  {
   "cell_type": "code",
   "execution_count": 8,
   "metadata": {},
   "outputs": [],
   "source": [
    "def calculate_pagerank(graph, alpha=0.85, max_iter=100, tol=1.0e-6):\n",
    "    return nx.pagerank(graph, alpha=alpha, max_iter=max_iter, tol=tol)"
   ]
  },
  {
   "cell_type": "code",
   "execution_count": 9,
   "metadata": {},
   "outputs": [],
   "source": [
    "# Create a graph\n",
    "G = nx.DiGraph()\n",
    "\n",
    "# Add nodes\n",
    "nodes = ['A', 'B', 'C', 'D', 'E', 'F']\n",
    "G.add_nodes_from(nodes)\n",
    "\n",
    "# Add edges\n",
    "edges = [\n",
    "    ('A', 'B'), ('B', 'A'), ('A', 'C'), ('B', 'C'),\n",
    "    ('C', 'A'), ('C', 'B'), ('D', 'A'), ('D', 'C'),\n",
    "    ('E', 'C'), ('E', 'D'), ('F', 'C'), ('F', 'E')\n",
    "]\n",
    "G.add_edges_from(edges)"
   ]
  },
  {
   "cell_type": "code",
   "execution_count": 10,
   "metadata": {},
   "outputs": [
    {
     "name": "stdout",
     "output_type": "stream",
     "text": [
      "PageRank: {'A': 0.2977083333333335, 'B': 0.28573617044503086, 'C': 0.31578987122163615, 'D': 0.040140625, 'E': 0.035625000000000004, 'F': 0.025}\n"
     ]
    }
   ],
   "source": [
    "# Calculate PageRank\n",
    "pagerank = calculate_pagerank(G)\n",
    "\n",
    "# Print the PageRank values\n",
    "print(\"PageRank:\", pagerank)"
   ]
  }
 ],
 "metadata": {
  "kernelspec": {
   "display_name": "Python 3",
   "language": "python",
   "name": "python3"
  },
  "language_info": {
   "codemirror_mode": {
    "name": "ipython",
    "version": 3
   },
   "file_extension": ".py",
   "mimetype": "text/x-python",
   "name": "python",
   "nbconvert_exporter": "python",
   "pygments_lexer": "ipython3",
   "version": "3.11.4"
  }
 },
 "nbformat": 4,
 "nbformat_minor": 2
}
