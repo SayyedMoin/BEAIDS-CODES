{
 "cells": [
  {
   "cell_type": "markdown",
   "metadata": {},
   "source": [
    "# assignment 5\n",
    "Implement Page Rank Algorithm. "
   ]
  },
  {
   "cell_type": "code",
   "execution_count": 1,
   "metadata": {},
   "outputs": [],
   "source": [
    "import networkx as nx"
   ]
  },
  {
   "cell_type": "code",
   "execution_count": 2,
   "metadata": {},
   "outputs": [],
   "source": [
    "def simplified_pagerank(G, alpha=0.85, max_iter=100, tol=1.0e-6):\n",
    "    \"\"\"Return the PageRank of the nodes in the graph.\n",
    "\n",
    "    Parameters:\n",
    "    G : graph\n",
    "        A NetworkX graph.\n",
    "\n",
    "    alpha : float, optional\n",
    "        Damping parameter for PageRank, default=0.85.\n",
    "\n",
    "    max_iter : integer, optional\n",
    "        Maximum number of iterations.\n",
    "\n",
    "    tol : float, optional\n",
    "        Error tolerance for convergence.\n",
    "\n",
    "    Returns:\n",
    "    pagerank : dictionary\n",
    "        Dictionary of nodes with PageRank as value\n",
    "    \"\"\"\n",
    "\n",
    "    if len(G) == 0:\n",
    "        return {}\n",
    "\n",
    "    # Create a directed graph from G\n",
    "    D = G.to_directed()\n",
    "\n",
    "    # Calculate the number of nodes\n",
    "    N = len(G)\n",
    "\n",
    "    # Initialize the PageRank values\n",
    "    x = {node: 1.0 / N for node in D}\n",
    "\n",
    "    # Power iteration: make up to max_iter iterations\n",
    "    for _ in range(max_iter):\n",
    "        xlast = x.copy()\n",
    "        for node in D:\n",
    "            x[node] = (1 - alpha) / N + alpha * sum(\n",
    "                xlast[nbr] / D.out_degree(nbr) for nbr in D.predecessors(node)\n",
    "            )\n",
    "\n",
    "        # Check convergence, l1 norm\n",
    "        err = sum(abs(x[node] - xlast[node]) for node in x)\n",
    "        if err < N * tol:\n",
    "            return x\n",
    "\n",
    "    raise nx.NetworkXError('pagerank: power iteration failed to converge in %d iterations.' % max_iter)\n"
   ]
  },
  {
   "cell_type": "code",
   "execution_count": 3,
   "metadata": {},
   "outputs": [],
   "source": [
    "# Create a directed graph\n",
    "G = nx.DiGraph()\n",
    "\n",
    "# Add nodes\n",
    "G.add_nodes_from(['A', 'B', 'C', 'D', 'E', 'F'])\n",
    "\n",
    "# Add edges\n",
    "G.add_edges_from([('A', 'B'), ('B', 'A'), ('A', 'C'), ('B', 'C'),\n",
    "                 ('C', 'A'), ('C', 'B'), ('D', 'A'), ('D', 'C'),\n",
    "                 ('E', 'C'), ('E', 'D'), ('F', 'C'), ('F', 'E')])"
   ]
  },
  {
   "cell_type": "code",
   "execution_count": 4,
   "metadata": {},
   "outputs": [
    {
     "name": "stdout",
     "output_type": "stream",
     "text": [
      "{'A': 0.2977083333333335, 'B': 0.28573617044503086, 'C': 0.31578987122163615, 'D': 0.040140625000000006, 'E': 0.035625000000000004, 'F': 0.025000000000000005}\n"
     ]
    }
   ],
   "source": [
    "# Call the simplified PageRank function\n",
    "pagerank = simplified_pagerank(G)\n",
    "\n",
    "# Print the PageRank values\n",
    "print(pagerank)"
   ]
  }
 ],
 "metadata": {
  "kernelspec": {
   "display_name": "Python 3",
   "language": "python",
   "name": "python3"
  },
  "language_info": {
   "codemirror_mode": {
    "name": "ipython",
    "version": 3
   },
   "file_extension": ".py",
   "mimetype": "text/x-python",
   "name": "python",
   "nbconvert_exporter": "python",
   "pygments_lexer": "ipython3",
   "version": "3.11.4"
  }
 },
 "nbformat": 4,
 "nbformat_minor": 2
}
