{
 "cells": [
  {
   "cell_type": "markdown",
   "metadata": {},
   "source": [
    "# assignment 2\n",
    "write a program for retrieval of documents using inverted files."
   ]
  },
  {
   "cell_type": "code",
   "execution_count": 1,
   "metadata": {},
   "outputs": [],
   "source": [
    "# Define the documents\n",
    "document1 = \"The quick brown fox jumped over the lazy dog.\"\n",
    "document2 = \"The lazy dog slept in the sun.\""
   ]
  },
  {
   "cell_type": "code",
   "execution_count": 2,
   "metadata": {},
   "outputs": [],
   "source": [
    "# Step 1: Tokenize the documents\n",
    "# Convert each document to lowercase and split it into words\n",
    "tokens1 = document1.lower().split()\n",
    "tokens2 = document2.lower().split()"
   ]
  },
  {
   "cell_type": "code",
   "execution_count": 3,
   "metadata": {},
   "outputs": [],
   "source": [
    "# Combine the tokens into a list of unique terms\n",
    "terms = list(set(tokens1 + tokens2))"
   ]
  },
  {
   "cell_type": "code",
   "execution_count": 4,
   "metadata": {},
   "outputs": [],
   "source": [
    "# Step 2: Build the inverted index\n",
    "# Create an empty dictionary to store the inverted index\n",
    "inverted_index = {}"
   ]
  },
  {
   "cell_type": "code",
   "execution_count": 5,
   "metadata": {},
   "outputs": [],
   "source": [
    "# For each term, find the documents that contain it\n",
    "for term in terms:\n",
    "    documents = []\n",
    "    if term in tokens1:\n",
    "        documents.append(\"Document 1\")\n",
    "    if term in tokens2:\n",
    "        documents.append(\"Document 2\")\n",
    "    inverted_index[term] = documents"
   ]
  },
  {
   "cell_type": "code",
   "execution_count": 6,
   "metadata": {},
   "outputs": [
    {
     "name": "stdout",
     "output_type": "stream",
     "text": [
      "sun. -> Document 2\n",
      "dog -> Document 2\n",
      "brown -> Document 1\n",
      "the -> Document 1, Document 2\n",
      "quick -> Document 1\n",
      "fox -> Document 1\n",
      "over -> Document 1\n",
      "slept -> Document 2\n",
      "in -> Document 2\n",
      "dog. -> Document 1\n",
      "jumped -> Document 1\n",
      "lazy -> Document 1, Document 2\n"
     ]
    }
   ],
   "source": [
    "# Step 3: Print the inverted index\n",
    "for term, documents in inverted_index.items():\n",
    "    print(term, \"->\", \", \".join(documents))"
   ]
  },
  {
   "cell_type": "code",
   "execution_count": 7,
   "metadata": {},
   "outputs": [
    {
     "name": "stdout",
     "output_type": "stream",
     "text": [
      "Documents containing 'dog': Document 2\n"
     ]
    }
   ],
   "source": [
    "# Step 4: Search for a term and retrieve documents\n",
    "search_term = input(\"Enter a search term: \").lower()\n",
    "if search_term in inverted_index:\n",
    "    documents_containing_term = inverted_index[search_term]\n",
    "    if documents_containing_term:\n",
    "        print(f\"Documents containing '{search_term}': {', '.join(documents_containing_term)}\")\n",
    "    else:\n",
    "        print(f\"No documents contain the term '{search_term}'.\")\n",
    "else:\n",
    "    print(f\"The term '{search_term}' is not in the index.\")"
   ]
  }
 ],
 "metadata": {
  "kernelspec": {
   "display_name": "Python 3",
   "language": "python",
   "name": "python3"
  },
  "language_info": {
   "codemirror_mode": {
    "name": "ipython",
    "version": 3
   },
   "file_extension": ".py",
   "mimetype": "text/x-python",
   "name": "python",
   "nbconvert_exporter": "python",
   "pygments_lexer": "ipython3",
   "version": "3.11.4"
  }
 },
 "nbformat": 4,
 "nbformat_minor": 2
}
